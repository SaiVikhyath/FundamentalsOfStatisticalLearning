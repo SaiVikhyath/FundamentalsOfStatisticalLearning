{
 "cells": [
  {
   "cell_type": "markdown",
   "metadata": {},
   "source": [
    "# Implementing SVM using libsvm\n"
   ]
  },
  {
   "cell_type": "markdown",
   "metadata": {},
   "source": [
    "    Author: Sai Vikhyath K\n",
    "    Date: 07 November 2022"
   ]
  },
  {
   "cell_type": "markdown",
   "metadata": {},
   "source": [
    "### Library Imports"
   ]
  },
  {
   "cell_type": "code",
   "execution_count": 2,
   "metadata": {},
   "outputs": [],
   "source": [
    "from libsvm.svmutil import *\n",
    "import numpy as np\n",
    "import scipy.io"
   ]
  },
  {
   "cell_type": "markdown",
   "metadata": {},
   "source": [
    "### Load training data and labels"
   ]
  },
  {
   "cell_type": "code",
   "execution_count": 3,
   "metadata": {},
   "outputs": [],
   "source": [
    "trainData = scipy.io.loadmat(\"Dataset\\\\trainData.mat\")\n",
    "\n",
    "trainX1 = np.asarray(trainData[\"X1\"])\n",
    "trainX2 = np.asarray(trainData[\"X2\"])\n",
    "trainX3 = np.asarray(trainData[\"X3\"])\n",
    "\n",
    "trainY = np.asarray(trainData[\"Y\"].flatten())"
   ]
  },
  {
   "cell_type": "markdown",
   "metadata": {},
   "source": [
    "### Load testing data and labels"
   ]
  },
  {
   "cell_type": "code",
   "execution_count": 4,
   "metadata": {},
   "outputs": [],
   "source": [
    "testData = scipy.io.loadmat(\"Dataset\\\\testData.mat\")\n",
    "\n",
    "testX1 = np.asarray(testData[\"X1\"])\n",
    "testX2 = np.asarray(testData[\"X2\"])\n",
    "testX3 = np.asarray(testData[\"X3\"])\n",
    "\n",
    "testY = np.asarray(testData[\"Y\"].flatten())"
   ]
  },
  {
   "cell_type": "markdown",
   "metadata": {},
   "source": [
    "## Implementing task 0\n",
    "### Train SVM model using <i>svm_train</i> available in libsvm"
   ]
  },
  {
   "cell_type": "code",
   "execution_count": 5,
   "metadata": {},
   "outputs": [],
   "source": [
    "m1 = svm_train(trainY, trainX1, \"-c 10 -t 0\")\n",
    "m2 = svm_train(trainY, trainX2, \"-c 10 -t 0\")\n",
    "m3 = svm_train(trainY, trainX3, \"-c 10 -t 0\")"
   ]
  },
  {
   "cell_type": "markdown",
   "metadata": {},
   "source": [
    "### Prediction of the test data on the trained SVM model"
   ]
  },
  {
   "cell_type": "code",
   "execution_count": 6,
   "metadata": {},
   "outputs": [
    {
     "name": "stdout",
     "output_type": "stream",
     "text": [
      "Accuracy = 10.7807% (203/1883) (classification)\n",
      "Accuracy = 16.6755% (314/1883) (classification)\n",
      "Accuracy = 8.92193% (168/1883) (classification)\n"
     ]
    }
   ],
   "source": [
    "p_label1, p_acc1, p_val1 = svm_predict(testY, testX1, m1)\n",
    "p_label2, p_acc2, p_val2 = svm_predict(testY, testX2, m2)\n",
    "p_label3, p_acc3, p_val3 = svm_predict(testY, testX3, m3)"
   ]
  },
  {
   "cell_type": "markdown",
   "metadata": {},
   "source": [
    "### Train SVM model to obtain probability estimates"
   ]
  },
  {
   "cell_type": "code",
   "execution_count": 7,
   "metadata": {},
   "outputs": [],
   "source": [
    "m1b = svm_train(trainY, trainX1, \"-c 10 -t 0 -b 1\")\n",
    "m2b = svm_train(trainY, trainX2, \"-c 10 -t 0 -b 1\")\n",
    "m3b = svm_train(trainY, trainX3, \"-c 10 -t 0 -b 1\")"
   ]
  },
  {
   "cell_type": "markdown",
   "metadata": {},
   "source": [
    "### Prediction of the test data on the trained SVM model"
   ]
  },
  {
   "cell_type": "code",
   "execution_count": 8,
   "metadata": {},
   "outputs": [
    {
     "name": "stdout",
     "output_type": "stream",
     "text": [
      "Accuracy = 27.8279% (524/1883) (classification)\n",
      "Accuracy = 27.7748% (523/1883) (classification)\n",
      "Accuracy = 27.0313% (509/1883) (classification)\n"
     ]
    }
   ],
   "source": [
    "p_label1b, p_acc1b, p_val1b = svm_predict(testY, testX1, m1b, options=\"-b 1\")\n",
    "p_label2b, p_acc2b, p_val2b = svm_predict(testY, testX2, m2b, options=\"-b 1\")\n",
    "p_label3b, p_acc3b, p_val3b = svm_predict(testY, testX3, m3b, options=\"-b 1\")"
   ]
  },
  {
   "cell_type": "markdown",
   "metadata": {},
   "source": [
    "## Implementing task 1\n",
    "### Feature combination by fusion of classifiers"
   ]
  },
  {
   "cell_type": "code",
   "execution_count": 9,
   "metadata": {},
   "outputs": [],
   "source": [
    "probability_fusion = []\n",
    "\n",
    "for r in range(len(p_val1b)):\n",
    "    row = []\n",
    "    for c in range(len(p_val1b[0])):\n",
    "        row.append((p_val1b[r][c] + p_val2b[r][c] + p_val3b[r][c]) / 3)\n",
    "    probability_fusion.append(row)\n",
    "\n",
    "# print(len(probability_fusion), len(probability_fusion[0]))\n"
   ]
  },
  {
   "cell_type": "markdown",
   "metadata": {},
   "source": [
    "### Compute the labels using argmax"
   ]
  },
  {
   "cell_type": "code",
   "execution_count": 10,
   "metadata": {},
   "outputs": [],
   "source": [
    "# Labels are computed by argmax(p(w_i/x))\n",
    "\n",
    "predicted_labels = []\n",
    "\n",
    "for r in probability_fusion:\n",
    "    # Add one to compensate for index starting with 0\n",
    "    predicted_labels.append(r.index(max(r)) + 1)\n",
    "\n"
   ]
  },
  {
   "cell_type": "markdown",
   "metadata": {},
   "source": [
    "### Compute the accuracy of the prediction"
   ]
  },
  {
   "cell_type": "code",
   "execution_count": 16,
   "metadata": {},
   "outputs": [
    {
     "name": "stdout",
     "output_type": "stream",
     "text": [
      "Accuracy = 44.3441317047265% (835/1883)\n"
     ]
    }
   ],
   "source": [
    "correct_predictions = 0\n",
    "total_predictions = len(testY)\n",
    "\n",
    "for i in range(len(testY)):\n",
    "    if predicted_labels[i] == testY[i]:\n",
    "        correct_predictions += 1\n",
    "\n",
    "print(\"Accuracy = \" +  str(100 * correct_predictions / total_predictions) + \"% (\" + str(correct_predictions) + \"/\" + str(total_predictions) + \")\")"
   ]
  },
  {
   "cell_type": "markdown",
   "metadata": {},
   "source": [
    "## Implementing task 2\n",
    "### Concatenating X1, X2 and X3 horizontally"
   ]
  },
  {
   "cell_type": "code",
   "execution_count": 12,
   "metadata": {},
   "outputs": [],
   "source": [
    "train_data = np.concatenate((trainX1, trainX2, trainX3), axis=1)\n",
    "test_data = np.concatenate((testX1, testX2, testX3), axis=1)\n"
   ]
  },
  {
   "cell_type": "markdown",
   "metadata": {},
   "source": [
    "### Training SVM model"
   ]
  },
  {
   "cell_type": "code",
   "execution_count": 13,
   "metadata": {},
   "outputs": [],
   "source": [
    "m = svm_train(trainY, train_data, \"-c 10 -t 0\")"
   ]
  },
  {
   "cell_type": "markdown",
   "metadata": {},
   "source": [
    "### Prediction of test data on trained SVM model"
   ]
  },
  {
   "cell_type": "code",
   "execution_count": 14,
   "metadata": {},
   "outputs": [
    {
     "name": "stdout",
     "output_type": "stream",
     "text": [
      "Accuracy = 37.0685% (698/1883) (classification)\n"
     ]
    }
   ],
   "source": [
    "p_label, p_acc, p_val = svm_predict(testY, test_data, m)"
   ]
  },
  {
   "cell_type": "code",
   "execution_count": null,
   "metadata": {},
   "outputs": [],
   "source": []
  }
 ],
 "metadata": {
  "kernelspec": {
   "display_name": "Python 3.10.7 64-bit",
   "language": "python",
   "name": "python3"
  },
  "language_info": {
   "codemirror_mode": {
    "name": "ipython",
    "version": 3
   },
   "file_extension": ".py",
   "mimetype": "text/x-python",
   "name": "python",
   "nbconvert_exporter": "python",
   "pygments_lexer": "ipython3",
   "version": "3.10.7"
  },
  "orig_nbformat": 4,
  "vscode": {
   "interpreter": {
    "hash": "86ddd1df405fbecc34513a6b6bed1217d133b206e91729ee0931cb11cc23acd1"
   }
  }
 },
 "nbformat": 4,
 "nbformat_minor": 2
}
