{
  "cells": [
    {
      "cell_type": "code",
      "execution_count": 31,
      "metadata": {
        "id": "njjbgQXJI-Ez"
      },
      "outputs": [],
      "source": [
        "from tensorflow import keras\n",
        "from keras.datasets import cifar10\n",
        "from keras.models import Sequential\n",
        "from keras.layers import Dense, Conv2D, MaxPooling2D, AveragePooling2D, Flatten, Dropout, BatchNormalization, Activation\n",
        "from keras import backend as K\n",
        "from tensorflow.keras.utils import to_categorical"
      ]
    },
    {
      "cell_type": "code",
      "execution_count": 62,
      "metadata": {
        "id": "Fcn8TffZJLVM"
      },
      "outputs": [],
      "source": [
        "batch_size= 64\n",
        "# batch_size = 16\n",
        "# batch_size = 256\n",
        "num_classes = 10\n",
        "epochs = 50"
      ]
    },
    {
      "cell_type": "code",
      "execution_count": 63,
      "metadata": {
        "id": "aDKabmGIJNHj"
      },
      "outputs": [],
      "source": [
        "#  input image dimensions\n",
        "img_rows, img_cols = 32, 32\n",
        "# the data, split between train and test sets\n",
        "(x_train, y_train), (x_test, y_test) = cifar10.load_data()\n",
        "if K.image_data_format() == 'channels_first':\n",
        "  x_train = x_train.reshape(x_train.shape[0], 3, img_rows, img_cols)\n",
        "  x_test = x_test.reshape(x_test.shape[0], 3, img_rows, img_cols)\n",
        "  input_shape = (3, img_rows, img_cols)\n",
        "else:\n",
        "  x_train = x_train.reshape(x_train.shape[0], img_rows, img_cols, 3)\n",
        "  x_test = x_test.reshape(x_test.shape[0], img_rows, img_cols, 3)\n",
        "  input_shape = (img_rows, img_cols, 3)"
      ]
    },
    {
      "cell_type": "code",
      "execution_count": 64,
      "metadata": {
        "id": "PjSWJUwfJU8E",
        "colab": {
          "base_uri": "https://localhost:8080/"
        },
        "outputId": "7abf2636-fbce-4308-d7bf-a2c3b8f480bc"
      },
      "outputs": [
        {
          "output_type": "stream",
          "name": "stdout",
          "text": [
            "x_train shape: (50000, 32, 32, 3)\n",
            "50000 training samples\n",
            "10000 testing samples\n"
          ]
        }
      ],
      "source": [
        "x_train = x_train.astype('float32')\n",
        "x_test = x_test.astype('float32')\n",
        "x_train /= 255\n",
        "x_test /= 255\n",
        "print('x_train shape:', x_train.shape)\n",
        "print(x_train.shape[0], 'training samples')\n",
        "print(x_test.shape[0], 'testing samples')\n",
        "\n",
        "# convert class vectors to binary class matrices\n",
        "y_train = to_categorical(y_train, num_classes)\n",
        "y_test = to_categorical(y_test, num_classes)"
      ]
    },
    {
      "cell_type": "code",
      "execution_count": 65,
      "metadata": {
        "id": "IMupwjnAJW1J"
      },
      "outputs": [],
      "source": [
        "model = Sequential()\n",
        "model.add(Conv2D(filters = 32, kernel_size = (3,3), padding='same', input_shape = input_shape))\n",
        "# model.add(Conv2D(filters = 32, kernel_size = (7,7), padding='same', input_shape = input_shape))\n",
        "model.add(Activation('relu'))\n",
        "model.add(BatchNormalization())\n",
        "model.add(Conv2D(filters = 32, kernel_size = (3,3), padding='same'))\n",
        "model.add(Activation('relu'))\n",
        "model.add(BatchNormalization())\n",
        "model.add(MaxPooling2D(2,2))\n",
        "model.add(Dropout(0.2))\n",
        "# model.add(Dropout(0.7))\n",
        "\n",
        "model.add(Conv2D(filters = 64, kernel_size = (3,3), padding='same'))\n",
        "model.add(Activation('relu'))\n",
        "model.add(BatchNormalization())\n",
        "model.add(Conv2D(filters = 64, kernel_size = (3,3), padding='same'))\n",
        "model.add(Activation('relu'))\n",
        "model.add(BatchNormalization())\n",
        "model.add(MaxPooling2D(2,2))\n",
        "model.add(Dropout(0.3))\n",
        "# model.add(Dropout(0.7))\n",
        "\n",
        "model.add(Conv2D(filters = 128, kernel_size = (3,3), padding='same'))\n",
        "model.add(Activation('relu'))\n",
        "model.add(BatchNormalization())\n",
        "model.add(Conv2D(filters = 128, kernel_size = (3,3), padding='same'))\n",
        "model.add(Activation('relu'))\n",
        "model.add(BatchNormalization())\n",
        "model.add(MaxPooling2D(2,2))\n",
        "model.add(Dropout(0.4))\n",
        "# model.add(Dropout(0.7))\n",
        "\n",
        "model.add(Flatten())\n",
        "\n",
        "model.add(Dense(units = 10, activation = 'softmax'))"
      ]
    },
    {
      "cell_type": "code",
      "execution_count": 66,
      "metadata": {
        "id": "g4rC8aZKJbgT"
      },
      "outputs": [],
      "source": [
        "# https://keras.io/optimizers/\n",
        "model.compile(loss=keras.losses.categorical_crossentropy, optimizer=keras.optimizers.Adam(lr=0.01), metrics=['accuracy'])\n",
        "# model.compile(loss=keras.losses.categorical_crossentropy, optimizer=keras.optimizers.RMSprop(lr=0.01), metrics=['accuracy'])\n",
        "# model.compile(loss=keras.losses.categorical_crossentropy, optimizer=keras.optimizers.Adam(lr=0.05), metrics=['accuracy'])\n",
        "# model.compile(loss=keras.losses.categorical_crossentropy, optimizer=keras.optimizers.Adam(lr=0.0001), metrics=['accuracy'])"
      ]
    },
    {
      "cell_type": "code",
      "execution_count": 67,
      "metadata": {
        "id": "UAPwRRVtJfVO",
        "colab": {
          "base_uri": "https://localhost:8080/"
        },
        "outputId": "13dd4bb1-3a0a-4a4e-ca85-ba57844c512f"
      },
      "outputs": [
        {
          "output_type": "stream",
          "name": "stdout",
          "text": [
            "Epoch 1/50\n",
            "196/196 [==============================] - 8s 34ms/step - loss: 2.5207 - accuracy: 0.3331 - val_loss: 2.2738 - val_accuracy: 0.3154\n",
            "Epoch 2/50\n",
            "196/196 [==============================] - 6s 30ms/step - loss: 1.5728 - accuracy: 0.4551 - val_loss: 1.5063 - val_accuracy: 0.4665\n",
            "Epoch 3/50\n",
            "196/196 [==============================] - 6s 30ms/step - loss: 1.3156 - accuracy: 0.5243 - val_loss: 1.2768 - val_accuracy: 0.5424\n",
            "Epoch 4/50\n",
            "196/196 [==============================] - 6s 30ms/step - loss: 1.1483 - accuracy: 0.5886 - val_loss: 1.5233 - val_accuracy: 0.4978\n",
            "Epoch 5/50\n",
            "196/196 [==============================] - 6s 30ms/step - loss: 1.0359 - accuracy: 0.6327 - val_loss: 1.0471 - val_accuracy: 0.6265\n",
            "Epoch 6/50\n",
            "196/196 [==============================] - 6s 31ms/step - loss: 0.9422 - accuracy: 0.6654 - val_loss: 0.9341 - val_accuracy: 0.6748\n",
            "Epoch 7/50\n",
            "196/196 [==============================] - 6s 30ms/step - loss: 0.8542 - accuracy: 0.6990 - val_loss: 0.9661 - val_accuracy: 0.6622\n",
            "Epoch 8/50\n",
            "196/196 [==============================] - 6s 30ms/step - loss: 0.7918 - accuracy: 0.7223 - val_loss: 0.8117 - val_accuracy: 0.7142\n",
            "Epoch 9/50\n",
            "196/196 [==============================] - 6s 29ms/step - loss: 0.7393 - accuracy: 0.7395 - val_loss: 0.7464 - val_accuracy: 0.7418\n",
            "Epoch 10/50\n",
            "196/196 [==============================] - 6s 29ms/step - loss: 0.6968 - accuracy: 0.7575 - val_loss: 0.6871 - val_accuracy: 0.7648\n",
            "Epoch 11/50\n",
            "196/196 [==============================] - 6s 29ms/step - loss: 0.6648 - accuracy: 0.7664 - val_loss: 0.7561 - val_accuracy: 0.7460\n",
            "Epoch 12/50\n",
            "196/196 [==============================] - 6s 30ms/step - loss: 0.6386 - accuracy: 0.7758 - val_loss: 0.6999 - val_accuracy: 0.7613\n",
            "Epoch 13/50\n",
            "196/196 [==============================] - 6s 29ms/step - loss: 0.6124 - accuracy: 0.7865 - val_loss: 0.6673 - val_accuracy: 0.7677\n",
            "Epoch 14/50\n",
            "196/196 [==============================] - 6s 30ms/step - loss: 0.5870 - accuracy: 0.7927 - val_loss: 0.6662 - val_accuracy: 0.7732\n",
            "Epoch 15/50\n",
            "196/196 [==============================] - 6s 30ms/step - loss: 0.5659 - accuracy: 0.8005 - val_loss: 0.7217 - val_accuracy: 0.7620\n",
            "Epoch 16/50\n",
            "196/196 [==============================] - 6s 29ms/step - loss: 0.5491 - accuracy: 0.8073 - val_loss: 0.6005 - val_accuracy: 0.8032\n",
            "Epoch 17/50\n",
            "196/196 [==============================] - 6s 30ms/step - loss: 0.5289 - accuracy: 0.8146 - val_loss: 0.6136 - val_accuracy: 0.7907\n",
            "Epoch 18/50\n",
            "196/196 [==============================] - 6s 30ms/step - loss: 0.5202 - accuracy: 0.8185 - val_loss: 0.6525 - val_accuracy: 0.7804\n",
            "Epoch 19/50\n",
            "196/196 [==============================] - 6s 30ms/step - loss: 0.4991 - accuracy: 0.8238 - val_loss: 0.6056 - val_accuracy: 0.8003\n",
            "Epoch 20/50\n",
            "196/196 [==============================] - 6s 30ms/step - loss: 0.4893 - accuracy: 0.8265 - val_loss: 0.6277 - val_accuracy: 0.7960\n",
            "Epoch 21/50\n",
            "196/196 [==============================] - 6s 30ms/step - loss: 0.4783 - accuracy: 0.8306 - val_loss: 0.6469 - val_accuracy: 0.7924\n",
            "Epoch 22/50\n",
            "196/196 [==============================] - 6s 30ms/step - loss: 0.4599 - accuracy: 0.8372 - val_loss: 0.5666 - val_accuracy: 0.8095\n",
            "Epoch 23/50\n",
            "196/196 [==============================] - 6s 30ms/step - loss: 0.4494 - accuracy: 0.8407 - val_loss: 0.6727 - val_accuracy: 0.7808\n",
            "Epoch 24/50\n",
            "196/196 [==============================] - 6s 30ms/step - loss: 0.4398 - accuracy: 0.8465 - val_loss: 0.6549 - val_accuracy: 0.7958\n",
            "Epoch 25/50\n",
            "196/196 [==============================] - 6s 30ms/step - loss: 0.4245 - accuracy: 0.8511 - val_loss: 0.6491 - val_accuracy: 0.7948\n",
            "Epoch 26/50\n",
            "196/196 [==============================] - 6s 30ms/step - loss: 0.4225 - accuracy: 0.8511 - val_loss: 0.5509 - val_accuracy: 0.8179\n",
            "Epoch 27/50\n",
            "196/196 [==============================] - 6s 30ms/step - loss: 0.4151 - accuracy: 0.8539 - val_loss: 0.5558 - val_accuracy: 0.8183\n",
            "Epoch 28/50\n",
            "196/196 [==============================] - 6s 30ms/step - loss: 0.4010 - accuracy: 0.8588 - val_loss: 0.5596 - val_accuracy: 0.8205\n",
            "Epoch 29/50\n",
            "196/196 [==============================] - 6s 30ms/step - loss: 0.3987 - accuracy: 0.8588 - val_loss: 0.6044 - val_accuracy: 0.8110\n",
            "Epoch 30/50\n",
            "196/196 [==============================] - 6s 30ms/step - loss: 0.3915 - accuracy: 0.8632 - val_loss: 0.5260 - val_accuracy: 0.8294\n",
            "Epoch 31/50\n",
            "196/196 [==============================] - 6s 29ms/step - loss: 0.3757 - accuracy: 0.8670 - val_loss: 0.6758 - val_accuracy: 0.7961\n",
            "Epoch 32/50\n",
            "196/196 [==============================] - 6s 30ms/step - loss: 0.3714 - accuracy: 0.8687 - val_loss: 0.6285 - val_accuracy: 0.8114\n",
            "Epoch 33/50\n",
            "196/196 [==============================] - 6s 30ms/step - loss: 0.3686 - accuracy: 0.8704 - val_loss: 0.6222 - val_accuracy: 0.8166\n",
            "Epoch 34/50\n",
            "196/196 [==============================] - 6s 30ms/step - loss: 0.3614 - accuracy: 0.8719 - val_loss: 0.6170 - val_accuracy: 0.8118\n",
            "Epoch 35/50\n",
            "196/196 [==============================] - 6s 30ms/step - loss: 0.3501 - accuracy: 0.8755 - val_loss: 0.7347 - val_accuracy: 0.7901\n",
            "Epoch 36/50\n",
            "196/196 [==============================] - 6s 30ms/step - loss: 0.3486 - accuracy: 0.8760 - val_loss: 0.5864 - val_accuracy: 0.8299\n",
            "Epoch 37/50\n",
            "196/196 [==============================] - 6s 30ms/step - loss: 0.3433 - accuracy: 0.8793 - val_loss: 0.6282 - val_accuracy: 0.8115\n",
            "Epoch 38/50\n",
            "196/196 [==============================] - 6s 29ms/step - loss: 0.3307 - accuracy: 0.8832 - val_loss: 0.6215 - val_accuracy: 0.8136\n",
            "Epoch 39/50\n",
            "196/196 [==============================] - 6s 30ms/step - loss: 0.3314 - accuracy: 0.8821 - val_loss: 0.6085 - val_accuracy: 0.8188\n",
            "Epoch 40/50\n",
            "196/196 [==============================] - 6s 30ms/step - loss: 0.3302 - accuracy: 0.8830 - val_loss: 0.6136 - val_accuracy: 0.8255\n",
            "Epoch 41/50\n",
            "196/196 [==============================] - 6s 30ms/step - loss: 0.3167 - accuracy: 0.8875 - val_loss: 0.7196 - val_accuracy: 0.7992\n",
            "Epoch 42/50\n",
            "196/196 [==============================] - 6s 30ms/step - loss: 0.3162 - accuracy: 0.8877 - val_loss: 0.5568 - val_accuracy: 0.8375\n",
            "Epoch 43/50\n",
            "196/196 [==============================] - 6s 30ms/step - loss: 0.3121 - accuracy: 0.8890 - val_loss: 0.5608 - val_accuracy: 0.8353\n",
            "Epoch 44/50\n",
            "196/196 [==============================] - 6s 30ms/step - loss: 0.3063 - accuracy: 0.8912 - val_loss: 0.5913 - val_accuracy: 0.8278\n",
            "Epoch 45/50\n",
            "196/196 [==============================] - 6s 30ms/step - loss: 0.2964 - accuracy: 0.8952 - val_loss: 0.5581 - val_accuracy: 0.8370\n",
            "Epoch 46/50\n",
            "196/196 [==============================] - 6s 30ms/step - loss: 0.2990 - accuracy: 0.8937 - val_loss: 0.6438 - val_accuracy: 0.8192\n",
            "Epoch 47/50\n",
            "196/196 [==============================] - 6s 30ms/step - loss: 0.2907 - accuracy: 0.8967 - val_loss: 0.6348 - val_accuracy: 0.8093\n",
            "Epoch 48/50\n",
            "196/196 [==============================] - 6s 30ms/step - loss: 0.2906 - accuracy: 0.8975 - val_loss: 0.6191 - val_accuracy: 0.8250\n",
            "Epoch 49/50\n",
            "196/196 [==============================] - 6s 29ms/step - loss: 0.2893 - accuracy: 0.8973 - val_loss: 0.5550 - val_accuracy: 0.8359\n",
            "Epoch 50/50\n",
            "196/196 [==============================] - 6s 30ms/step - loss: 0.2801 - accuracy: 0.9002 - val_loss: 0.5727 - val_accuracy: 0.8325\n",
            "Test loss: 0.5726861953735352\n",
            "Test accuracy: 0.8324999809265137\n"
          ]
        }
      ],
      "source": [
        "model.fit(x_train, y_train, batch_size=batch_size, epochs=epochs, verbose=1, validation_data=(x_test, y_test))\n",
        "score = model.evaluate(x_test, y_test, verbose=0)\n",
        "print('Test loss:', score[0])\n",
        "print('Test accuracy:', score[1])"
      ]
    },
    {
      "cell_type": "code",
      "execution_count": 67,
      "metadata": {
        "id": "5pyAwk80zymU"
      },
      "outputs": [],
      "source": []
    },
    {
      "cell_type": "code",
      "source": [],
      "metadata": {
        "id": "VG6iZEvK4sW_"
      },
      "execution_count": null,
      "outputs": []
    }
  ],
  "metadata": {
    "accelerator": "GPU",
    "colab": {
      "provenance": []
    },
    "kernelspec": {
      "display_name": "Python 3.10.7 64-bit",
      "language": "python",
      "name": "python3"
    },
    "language_info": {
      "codemirror_mode": {
        "name": "ipython",
        "version": 3
      },
      "file_extension": ".py",
      "mimetype": "text/x-python",
      "name": "python",
      "nbconvert_exporter": "python",
      "pygments_lexer": "ipython3",
      "version": "3.10.7"
    },
    "vscode": {
      "interpreter": {
        "hash": "86ddd1df405fbecc34513a6b6bed1217d133b206e91729ee0931cb11cc23acd1"
      }
    },
    "gpuClass": "standard"
  },
  "nbformat": 4,
  "nbformat_minor": 0
}